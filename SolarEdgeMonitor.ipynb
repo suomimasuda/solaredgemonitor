{
  "nbformat": 4,
  "nbformat_minor": 0,
  "metadata": {
    "colab": {
      "provenance": [],
      "mount_file_id": "https://github.com/suomimasuda/solaredgemonitor/blob/main/SolarEdgeMonitor.ipynb",
      "authorship_tag": "ABX9TyMgWbHgvqEfu+x/4adlw1LB",
      "include_colab_link": true
    },
    "kernelspec": {
      "name": "python3",
      "display_name": "Python 3"
    },
    "language_info": {
      "name": "python"
    }
  },
  "cells": [
    {
      "cell_type": "markdown",
      "metadata": {
        "id": "view-in-github",
        "colab_type": "text"
      },
      "source": [
        "<a href=\"https://colab.research.google.com/github/suomimasuda/solaredgemonitor/blob/main/SolarEdgeMonitor.ipynb\" target=\"_parent\"><img src=\"https://colab.research.google.com/assets/colab-badge.svg\" alt=\"Open In Colab\"/></a>"
      ]
    },
    {
      "cell_type": "code",
      "execution_count": null,
      "metadata": {
        "id": "5NnuoaP5nmXP",
        "colab": {
          "base_uri": "https://localhost:8080/"
        },
        "outputId": "13ca4204-88b2-4a32-8539-82c44f49e65b"
      },
      "outputs": [
        {
          "output_type": "stream",
          "name": "stdout",
          "text": [
            "['.config', 'i-s3pv-3e280c26d353.json', 'sample_data']\n"
          ]
        }
      ],
      "source": [
        "import os\n",
        "\n",
        "# 現在のディレクトリのファイルを表示\n",
        "print(os.listdir())"
      ]
    },
    {
      "cell_type": "code",
      "source": [
        "import gspread\n",
        "from oauth2client.service_account import ServiceAccountCredentials\n",
        "\n",
        "# 認証情報のセットアップ\n",
        "def authorize_google_sheets():\n",
        "    scope = [\"https://spreadsheets.google.com/feeds\", \"https://www.googleapis.com/auth/drive\"]\n",
        "    creds = ServiceAccountCredentials.from_json_keyfile_name(\"/content/drive/MyDrive/Colab Notebooks/i-s3pv-3e280c26d353.json\", scope)\n",
        "    client = gspread.authorize(creds)\n",
        "    return client\n",
        "\n",
        "# Google Sheets に接続\n",
        "client = authorize_google_sheets()\n",
        "sheet = client.open(\"SolarEdge_Data\").worksheet(\"SolarData\")\n",
        "\n",
        "# 確認のために A1 の値を取得\n",
        "print(sheet.acell('A1').value)\n"
      ],
      "metadata": {
        "colab": {
          "base_uri": "https://localhost:8080/"
        },
        "id": "HHzrB9IFqhnb",
        "outputId": "f1a7e338-ee87-4f70-da52-0957ecc8e5df"
      },
      "execution_count": null,
      "outputs": [
        {
          "output_type": "stream",
          "name": "stdout",
          "text": [
            "None\n"
          ]
        }
      ]
    },
    {
      "cell_type": "code",
      "source": [
        "import urllib.parse\n",
        "import urllib.request\n",
        "import json\n",
        "import gspread\n",
        "from oauth2client.service_account import ServiceAccountCredentials\n",
        "from datetime import datetime  # datetimeモジュールを追加\n",
        "\n",
        "# Google Sheets API の認証設定\n",
        "def authorize_google_sheets():\n",
        "    scope = [\"https://spreadsheets.google.com/feeds\", \"https://www.googleapis.com/auth/drive\"]\n",
        "    creds = ServiceAccountCredentials.from_json_keyfile_name(\"/content/i-s3pv-3e280c26d353.json\", scope)\n",
        "    client = gspread.authorize(creds)\n",
        "    return client\n",
        "\n",
        "# 除外するサイトIDを取得\n",
        "def get_excluded_sites(sheet):\n",
        "    try:\n",
        "        worksheet = sheet.worksheet(\"Ex\")  # Exシートを取得\n",
        "        excluded_sites = worksheet.col_values(1)[1:]  # A列のデータを取得（1行目はヘッダー）\n",
        "        return set(excluded_sites)\n",
        "    except gspread.exceptions.WorksheetNotFound:\n",
        "        return set()\n",
        "\n",
        "# SolarEdge API から発電所リストを取得\n",
        "def get_site_list(api_key):\n",
        "    url = 'https://monitoringapi.solaredge.com/sites/list?'\n",
        "    params = {\n",
        "        'size': '100',\n",
        "        'sortProperty': 'name',\n",
        "        'sortOrder': 'ASC',\n",
        "        'api_key': api_key\n",
        "    }\n",
        "    param_str = urllib.parse.urlencode(params)\n",
        "    response = urllib.request.urlopen(url + param_str).read()\n",
        "    return json.loads(response)\n",
        "\n",
        "# 取得したデータをGoogle Sheetsに保存\n",
        "def save_sites_to_google_sheets(sheet_name, data):\n",
        "    client = authorize_google_sheets()\n",
        "    sheet = client.open(\"SolarEdge_Data\")\n",
        "    excluded_sites = get_excluded_sites(sheet)\n",
        "\n",
        "    try:\n",
        "        worksheet = sheet.worksheet(sheet_name)  # 既存のシートを取得\n",
        "        worksheet.clear()  # 初期化\n",
        "    except gspread.exceptions.WorksheetNotFound:\n",
        "        worksheet = sheet.add_worksheet(title=sheet_name, rows=\"100\", cols=\"4\")  # シートがなければ作成, コラム数を4へ変更\n",
        "\n",
        "    # ヘッダーを追加\n",
        "    worksheet.update(\"A1\", [[\"Site Name\", \"Site ID\", \"Alert Quantity\", \"Execution Time\"]]) #ヘッダーを追加\n",
        "\n",
        "    # データを整形して、除外リストにないもののみ追加\n",
        "    values = [[site['name'], site['id'], site.get('alertQuantity', 0), datetime.now().strftime('%Y-%m-%d %H:%M:%S')] #実行時間を追加\n",
        "              for site in data['sites']['site'] if str(site['id']) not in excluded_sites]\n",
        "    worksheet.update(\"A2\", values)\n",
        "\n",
        "# 実行部分\n",
        "if __name__ == \"__main__\":\n",
        "    API_KEY = \"6PZMKL7XLLR40Q10JKHG8NA7H7MOUNLW\"\n",
        "    site_list_data = get_site_list(API_KEY)\n",
        "    save_sites_to_google_sheets(\"SiteList\", site_list_data)\n",
        "    #print(\"発電所リストとアラート情報をGoogle Sheetsに保存しました。（除外リスト適用済み）\")"
      ],
      "metadata": {
        "colab": {
          "base_uri": "https://localhost:8080/"
        },
        "id": "Nar2JQQfx-SD",
        "outputId": "77f4821b-a799-47e9-ae34-b8adfc938496"
      },
      "execution_count": 2,
      "outputs": [
        {
          "output_type": "stream",
          "name": "stderr",
          "text": [
            "<ipython-input-2-a777dfebfba3>:50: DeprecationWarning: The order of arguments in worksheet.update() has changed. Please pass values first and range_name secondor used named arguments (range_name=, values=)\n",
            "  worksheet.update(\"A1\", [[\"Site Name\", \"Site ID\", \"Alert Quantity\", \"Execution Time\"]]) #ヘッダーを追加\n",
            "<ipython-input-2-a777dfebfba3>:55: DeprecationWarning: The order of arguments in worksheet.update() has changed. Please pass values first and range_name secondor used named arguments (range_name=, values=)\n",
            "  worksheet.update(\"A2\", values)\n"
          ]
        }
      ]
    },
    {
      "cell_type": "code",
      "source": [
        "from google.colab import auth\n",
        "auth.authenticate_user()\n",
        "\n",
        "from googleapiclient.discovery import build\n",
        "import time\n",
        "\n",
        "def run_colab_notebook():\n",
        "    # Rerun this cell to authorize access to your Google Drive account\n",
        "    # This is usually necessary when you restart the runtime or after a long period of inactivity\n",
        "    auth.authenticate_user() # Re-authenticate to ensure correct credentials are used\n",
        "    #print(\"Authentication complete. You may continue now.\")\n",
        "    # Rest of your code\n",
        "    service = build('drive', 'v3')\n",
        "    notebook_id = \"1jArZ0tff75qtigWAhZfw6PCKT67-4JZq#scrollTo=qe48u_P75fDv\"  # あなたのColabノートブックのIDに変更\n",
        "\n",
        "    # 実行リクエスト\n",
        "    execute_url = f\"https://colab.research.google.com/drive/{notebook_id}\"\n",
        "    #print(f\"Colabノートブックを実行中: {execute_url}\")\n",
        "\n",
        "run_colab_notebook()"
      ],
      "metadata": {
        "id": "qe48u_P75fDv"
      },
      "execution_count": null,
      "outputs": []
    }
  ]
}